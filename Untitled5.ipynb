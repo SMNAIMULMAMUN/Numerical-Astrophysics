{
 "cells": [
  {
   "cell_type": "code",
   "execution_count": 1,
   "id": "7a2f854e",
   "metadata": {},
   "outputs": [],
   "source": [
    "# Calculation the orbital velocity "
   ]
  },
  {
   "cell_type": "code",
   "execution_count": 2,
   "id": "6a861459",
   "metadata": {},
   "outputs": [],
   "source": [
    "radius= 1.5e8"
   ]
  },
  {
   "cell_type": "code",
   "execution_count": 3,
   "id": "c5b2f66e",
   "metadata": {},
   "outputs": [],
   "source": [
    "period= 3.15e7"
   ]
  },
  {
   "cell_type": "code",
   "execution_count": 7,
   "id": "1fb66868",
   "metadata": {},
   "outputs": [],
   "source": [
    "velocity= 2* 3.1416* radius/period"
   ]
  },
  {
   "cell_type": "code",
   "execution_count": 8,
   "id": "9ac04a2e",
   "metadata": {},
   "outputs": [
    {
     "name": "stdout",
     "output_type": "stream",
     "text": [
      "29.92\n"
     ]
    }
   ],
   "source": [
    "print(velocity)"
   ]
  },
  {
   "cell_type": "code",
   "execution_count": null,
   "id": "6d2cd063",
   "metadata": {},
   "outputs": [],
   "source": []
  }
 ],
 "metadata": {
  "kernelspec": {
   "display_name": "Python 3 (ipykernel)",
   "language": "python",
   "name": "python3"
  },
  "language_info": {
   "codemirror_mode": {
    "name": "ipython",
    "version": 3
   },
   "file_extension": ".py",
   "mimetype": "text/x-python",
   "name": "python",
   "nbconvert_exporter": "python",
   "pygments_lexer": "ipython3",
   "version": "3.9.7"
  }
 },
 "nbformat": 4,
 "nbformat_minor": 5
}
